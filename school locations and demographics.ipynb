{
 "cells": [
  {
   "cell_type": "code",
   "execution_count": 1,
   "id": "c65cb4a5",
   "metadata": {},
   "outputs": [],
   "source": [
    "import pandas as pd\n",
    "import geopandas as gpd\n",
    "import requests"
   ]
  },
  {
   "cell_type": "code",
   "execution_count": 2,
   "id": "e33daa39",
   "metadata": {},
   "outputs": [
    {
     "name": "stderr",
     "output_type": "stream",
     "text": [
      "C:\\Users\\zhi\\.conda\\envs\\class\\lib\\site-packages\\urllib3\\connectionpool.py:1056: InsecureRequestWarning: Unverified HTTPS request is being made to host 'ws.schools.nyc'. Adding certificate verification is strongly advised. See: https://urllib3.readthedocs.io/en/1.26.x/advanced-usage.html#ssl-warnings\n",
      "  warnings.warn(\n"
     ]
    },
    {
     "data": {
      "text/html": [
       "<div>\n",
       "<style scoped>\n",
       "    .dataframe tbody tr th:only-of-type {\n",
       "        vertical-align: middle;\n",
       "    }\n",
       "\n",
       "    .dataframe tbody tr th {\n",
       "        vertical-align: top;\n",
       "    }\n",
       "\n",
       "    .dataframe thead th {\n",
       "        text-align: right;\n",
       "    }\n",
       "</style>\n",
       "<table border=\"1\" class=\"dataframe\">\n",
       "  <thead>\n",
       "    <tr style=\"text-align: right;\">\n",
       "      <th></th>\n",
       "      <th>locationCode</th>\n",
       "      <th>type</th>\n",
       "      <th>boroughName</th>\n",
       "      <th>boroughCode</th>\n",
       "      <th>name</th>\n",
       "      <th>phoneNumber</th>\n",
       "      <th>primaryAddressLine</th>\n",
       "      <th>zip</th>\n",
       "      <th>grades</th>\n",
       "      <th>stateCode</th>\n",
       "      <th>x</th>\n",
       "      <th>y</th>\n",
       "      <th>profile</th>\n",
       "      <th>neighborhood</th>\n",
       "      <th>district</th>\n",
       "      <th>distance</th>\n",
       "      <th>dataflag</th>\n",
       "    </tr>\n",
       "  </thead>\n",
       "  <tbody>\n",
       "    <tr>\n",
       "      <th>616</th>\n",
       "      <td>M063</td>\n",
       "      <td>DOE</td>\n",
       "      <td>Manhattan</td>\n",
       "      <td>M</td>\n",
       "      <td>The STAR Academy - P.S.63</td>\n",
       "      <td>212-674-3180</td>\n",
       "      <td>121 EAST  3 STREET</td>\n",
       "      <td>10009</td>\n",
       "      <td>PK,0K,01,02,03,04,05,SE</td>\n",
       "      <td>NY</td>\n",
       "      <td>-8236107.66820000</td>\n",
       "      <td>4971781.19860000</td>\n",
       "      <td></td>\n",
       "      <td>East Village                                  ...</td>\n",
       "      <td>01</td>\n",
       "      <td></td>\n",
       "      <td>L</td>\n",
       "    </tr>\n",
       "    <tr>\n",
       "      <th>1237</th>\n",
       "      <td>Q337</td>\n",
       "      <td>Charter</td>\n",
       "      <td>Queens</td>\n",
       "      <td>Q</td>\n",
       "      <td>Success Academy Charter School - Rosedale</td>\n",
       "      <td>347-514-7060</td>\n",
       "      <td>147-65 249 Street</td>\n",
       "      <td>11422</td>\n",
       "      <td>0K,01,02,03,04,06,07,08,SE</td>\n",
       "      <td>NY</td>\n",
       "      <td>-8208564.88850000</td>\n",
       "      <td>4961705.65680000</td>\n",
       "      <td></td>\n",
       "      <td>Rosedale                                      ...</td>\n",
       "      <td>29</td>\n",
       "      <td></td>\n",
       "      <td>L</td>\n",
       "    </tr>\n",
       "  </tbody>\n",
       "</table>\n",
       "</div>"
      ],
      "text/plain": [
       "     locationCode     type boroughName boroughCode  \\\n",
       "616          M063      DOE   Manhattan           M   \n",
       "1237         Q337  Charter      Queens           Q   \n",
       "\n",
       "                                           name   phoneNumber  \\\n",
       "616                   The STAR Academy - P.S.63  212-674-3180   \n",
       "1237  Success Academy Charter School - Rosedale  347-514-7060   \n",
       "\n",
       "      primaryAddressLine    zip                      grades stateCode  \\\n",
       "616   121 EAST  3 STREET  10009     PK,0K,01,02,03,04,05,SE        NY   \n",
       "1237   147-65 249 Street  11422  0K,01,02,03,04,06,07,08,SE        NY   \n",
       "\n",
       "                      x                 y profile  \\\n",
       "616   -8236107.66820000  4971781.19860000           \n",
       "1237  -8208564.88850000  4961705.65680000           \n",
       "\n",
       "                                           neighborhood district distance  \\\n",
       "616   East Village                                  ...       01            \n",
       "1237  Rosedale                                      ...       29            \n",
       "\n",
       "     dataflag  \n",
       "616         L  \n",
       "1237        L  "
      ]
     },
     "execution_count": 2,
     "metadata": {},
     "output_type": "execute_result"
    }
   ],
   "source": [
    "# get all schools \n",
    "URL = 'https://ws.schools.nyc/schooldata/GetSchools?search=&borough='\n",
    "r = requests.get(url = URL, verify=False)\n",
    "data = r.json() \n",
    "df = pd.DataFrame(data)\n",
    "df.sample(2)"
   ]
  },
  {
   "cell_type": "code",
   "execution_count": 3,
   "id": "cfedf59b",
   "metadata": {},
   "outputs": [],
   "source": [
    "# convert dataframe to geopandas with crs (102100) and reproject to 4326\n",
    "gdf = gpd.GeoDataFrame(\n",
    "    df, geometry=gpd.points_from_xy(df['x'], df['y']), crs = 102100).to_crs(4326)"
   ]
  },
  {
   "cell_type": "code",
   "execution_count": 4,
   "id": "1bb71589",
   "metadata": {},
   "outputs": [
    {
     "name": "stderr",
     "output_type": "stream",
     "text": [
      "PROJ: proj_create_from_database: Cannot find proj.db\n"
     ]
    }
   ],
   "source": [
    "# get all points within the two zones\n",
    "onehrtrans = gpd.read_file('../processed/nycbg1hrtrans.gpkg').to_crs(4326).dissolve()\n",
    "sewershed = gpd.read_file('../processed/sewershed-tracts.gpkg').to_crs(4326).dissolve()\n",
    "\n",
    "schools_within_onehrtrans = gdf[gdf.intersects(onehrtrans.iloc[0]['geometry'])] # use shaply object instead of dataframe\n",
    "schools_within_sewershed = gdf[gdf.intersects(sewershed.iloc[0]['geometry'])]"
   ]
  },
  {
   "cell_type": "code",
   "execution_count": 5,
   "id": "33c0e209",
   "metadata": {},
   "outputs": [
    {
     "data": {
      "text/plain": [
       "<Axes: >"
      ]
     },
     "execution_count": 5,
     "metadata": {},
     "output_type": "execute_result"
    },
    {
     "data": {
      "image/png": "[encoded data removed]",
      "text/plain": [
       "<Figure size 640x480 with 1 Axes>"
      ]
     },
     "metadata": {},
     "output_type": "display_data"
    }
   ],
   "source": [
    "ax = onehrtrans.plot(color='red', alpha = 0.2)\n",
    "sewershed.plot(color='purple', alpha = 0.2, ax = ax)\n",
    "gdf.plot(markersize = 0.3, ax = ax, color = 'black')"
   ]
  },
  {
   "cell_type": "code",
   "execution_count": 6,
   "id": "30af971f",
   "metadata": {},
   "outputs": [
    {
     "data": {
      "text/plain": [
       "(370, 541)"
      ]
     },
     "execution_count": 6,
     "metadata": {},
     "output_type": "execute_result"
    }
   ],
   "source": [
    "len(schools_within_onehrtrans),len(schools_within_sewershed)"
   ]
  },
  {
   "cell_type": "code",
   "execution_count": 7,
   "id": "37aab327",
   "metadata": {},
   "outputs": [
    {
     "data": {
      "text/html": [
       "<div>\n",
       "<style scoped>\n",
       "    .dataframe tbody tr th:only-of-type {\n",
       "        vertical-align: middle;\n",
       "    }\n",
       "\n",
       "    .dataframe tbody tr th {\n",
       "        vertical-align: top;\n",
       "    }\n",
       "\n",
       "    .dataframe thead th {\n",
       "        text-align: right;\n",
       "    }\n",
       "</style>\n",
       "<table border=\"1\" class=\"dataframe\">\n",
       "  <thead>\n",
       "    <tr style=\"text-align: right;\">\n",
       "      <th></th>\n",
       "      <th>DBN</th>\n",
       "      <th>School Name</th>\n",
       "      <th>Year</th>\n",
       "      <th>Total Enrollment</th>\n",
       "      <th>Grade 3K</th>\n",
       "      <th>Grade PK (Half Day &amp; Full Day)</th>\n",
       "      <th>Grade K</th>\n",
       "      <th>Grade 1</th>\n",
       "      <th>Grade 2</th>\n",
       "      <th>Grade 3</th>\n",
       "      <th>...</th>\n",
       "      <th>% White</th>\n",
       "      <th># Missing Race/Ethnicity Data</th>\n",
       "      <th>% Missing Race/Ethnicity Data</th>\n",
       "      <th># Students with Disabilities</th>\n",
       "      <th>% Students with Disabilities</th>\n",
       "      <th># English Language Learners</th>\n",
       "      <th>% English Language Learners</th>\n",
       "      <th># Poverty</th>\n",
       "      <th>% Poverty</th>\n",
       "      <th>Economic Need Index</th>\n",
       "    </tr>\n",
       "  </thead>\n",
       "  <tbody>\n",
       "    <tr>\n",
       "      <th>5908</th>\n",
       "      <td>25Q425</td>\n",
       "      <td>John Bowne High School</td>\n",
       "      <td>2019-20</td>\n",
       "      <td>3432</td>\n",
       "      <td>0</td>\n",
       "      <td>0</td>\n",
       "      <td>0</td>\n",
       "      <td>0</td>\n",
       "      <td>0</td>\n",
       "      <td>0</td>\n",
       "      <td>...</td>\n",
       "      <td>0.052448</td>\n",
       "      <td>56</td>\n",
       "      <td>0.016317</td>\n",
       "      <td>525</td>\n",
       "      <td>0.152972</td>\n",
       "      <td>619</td>\n",
       "      <td>0.180361</td>\n",
       "      <td>2588</td>\n",
       "      <td>0.754079</td>\n",
       "      <td>0.772903</td>\n",
       "    </tr>\n",
       "    <tr>\n",
       "      <th>120</th>\n",
       "      <td>01M696</td>\n",
       "      <td>Bard High School Early College</td>\n",
       "      <td>2019-20</td>\n",
       "      <td>613</td>\n",
       "      <td>0</td>\n",
       "      <td>0</td>\n",
       "      <td>0</td>\n",
       "      <td>0</td>\n",
       "      <td>0</td>\n",
       "      <td>0</td>\n",
       "      <td>...</td>\n",
       "      <td>0.376835</td>\n",
       "      <td>0</td>\n",
       "      <td>0.000000</td>\n",
       "      <td>65</td>\n",
       "      <td>0.106036</td>\n",
       "      <td>0</td>\n",
       "      <td>0.000000</td>\n",
       "      <td>259</td>\n",
       "      <td>0.422512</td>\n",
       "      <td>0.425246</td>\n",
       "    </tr>\n",
       "  </tbody>\n",
       "</table>\n",
       "<p>2 rows × 46 columns</p>\n",
       "</div>"
      ],
      "text/plain": [
       "         DBN                     School Name     Year  Total Enrollment  \\\n",
       "5908  25Q425          John Bowne High School  2019-20              3432   \n",
       "120   01M696  Bard High School Early College  2019-20               613   \n",
       "\n",
       "      Grade 3K  Grade PK (Half Day & Full Day)  Grade K  Grade 1  Grade 2  \\\n",
       "5908         0                               0        0        0        0   \n",
       "120          0                               0        0        0        0   \n",
       "\n",
       "      Grade 3  ...   % White  # Missing Race/Ethnicity Data  \\\n",
       "5908        0  ...  0.052448                             56   \n",
       "120         0  ...  0.376835                              0   \n",
       "\n",
       "      % Missing Race/Ethnicity Data  # Students with Disabilities  \\\n",
       "5908                       0.016317                           525   \n",
       "120                        0.000000                            65   \n",
       "\n",
       "      % Students with Disabilities  # English Language Learners  \\\n",
       "5908                      0.152972                          619   \n",
       "120                       0.106036                            0   \n",
       "\n",
       "      % English Language Learners  # Poverty  % Poverty  Economic Need Index  \n",
       "5908                     0.180361       2588   0.754079             0.772903  \n",
       "120                      0.000000        259   0.422512             0.425246  \n",
       "\n",
       "[2 rows x 46 columns]"
      ]
     },
     "execution_count": 7,
     "metadata": {},
     "output_type": "execute_result"
    }
   ],
   "source": [
    "# process demograph data \n",
    "# https://infohub.nyced.org/docs/default-source/default-document-library/demographic-snapshot-2019-20-to-2023-24-public.xlsx\n",
    "schools_demographics = pd.read_excel('./data/demographic-snapshot-2019-20-to-2023-24-public.xlsx', sheet_name = 'School')\n",
    "schools_demographics.sample(2)"
   ]
  },
  {
   "cell_type": "code",
   "execution_count": 8,
   "id": "16200376",
   "metadata": {},
   "outputs": [],
   "source": [
    "# convert DBN to locationCode\n",
    "schools_demographics['locationCode'] = schools_demographics['DBN'].str.slice(2)\n",
    "\n",
    "# select the latest year\n",
    "latest_year = '2023-24'\n",
    "latest_year_schools_demographics = schools_demographics[schools_demographics['Year'] == latest_year].copy()"
   ]
  },
  {
   "cell_type": "code",
   "execution_count": 9,
   "id": "65875729",
   "metadata": {},
   "outputs": [],
   "source": [
    "# filter down \n",
    "\n",
    "# 365  / 629, doesn't include NYCEEC (early edu centers , pre-k) and charters \n",
    "schools_within_onehrtrans_demographics = latest_year_schools_demographics[\n",
    "    latest_year_schools_demographics['locationCode'].isin(schools_within_onehrtrans['locationCode'])\n",
    "]\n",
    "\n",
    "# 532 / 979\n",
    "schools_within_sewershed_demographics = latest_year_schools_demographics[\n",
    "    latest_year_schools_demographics['locationCode'].isin(schools_within_sewershed['locationCode'])\n",
    "]"
   ]
  },
  {
   "cell_type": "code",
   "execution_count": 10,
   "id": "0744f191",
   "metadata": {},
   "outputs": [
    {
     "data": {
      "text/plain": [
       "type\n",
       "Charter    4\n",
       "DOE        2\n",
       "Name: count, dtype: int64"
      ]
     },
     "execution_count": 10,
     "metadata": {},
     "output_type": "execute_result"
    }
   ],
   "source": [
    "# missing schools \n",
    "schools_within_onehrtrans[\n",
    "    ~schools_within_onehrtrans['locationCode'].isin(schools_within_onehrtrans_demographics['locationCode'])]['type'].value_counts()"
   ]
  },
  {
   "cell_type": "code",
   "execution_count": 11,
   "id": "a7a94a76",
   "metadata": {},
   "outputs": [],
   "source": [
    "# SUM! things"
   ]
  },
  {
   "cell_type": "code",
   "execution_count": 12,
   "id": "8230ad73",
   "metadata": {},
   "outputs": [
    {
     "data": {
      "text/html": [
       "<div>\n",
       "<style scoped>\n",
       "    .dataframe tbody tr th:only-of-type {\n",
       "        vertical-align: middle;\n",
       "    }\n",
       "\n",
       "    .dataframe tbody tr th {\n",
       "        vertical-align: top;\n",
       "    }\n",
       "\n",
       "    .dataframe thead th {\n",
       "        text-align: right;\n",
       "    }\n",
       "</style>\n",
       "<table border=\"1\" class=\"dataframe\">\n",
       "  <thead>\n",
       "    <tr style=\"text-align: right;\">\n",
       "      <th></th>\n",
       "      <th>Total Enrollment</th>\n",
       "      <th>Grade 3K</th>\n",
       "      <th>Grade PK (Half Day &amp; Full Day)</th>\n",
       "      <th>Grade K</th>\n",
       "      <th>Grade 1</th>\n",
       "      <th>Grade 2</th>\n",
       "      <th>Grade 3</th>\n",
       "      <th>Grade 4</th>\n",
       "      <th>Grade 5</th>\n",
       "      <th>Grade 6</th>\n",
       "      <th>...</th>\n",
       "      <th># Neither Female nor Male</th>\n",
       "      <th># Asian</th>\n",
       "      <th># Black</th>\n",
       "      <th># Hispanic</th>\n",
       "      <th># Multi-Racial</th>\n",
       "      <th># Native American</th>\n",
       "      <th># White</th>\n",
       "      <th># Missing Race/Ethnicity Data</th>\n",
       "      <th># Students with Disabilities</th>\n",
       "      <th># English Language Learners</th>\n",
       "    </tr>\n",
       "  </thead>\n",
       "  <tbody>\n",
       "    <tr>\n",
       "      <th>0</th>\n",
       "      <td>185868.0</td>\n",
       "      <td>1555.0</td>\n",
       "      <td>4883.0</td>\n",
       "      <td>12843.0</td>\n",
       "      <td>13048.0</td>\n",
       "      <td>13151.0</td>\n",
       "      <td>12955.0</td>\n",
       "      <td>13019.0</td>\n",
       "      <td>12742.0</td>\n",
       "      <td>13939.0</td>\n",
       "      <td>...</td>\n",
       "      <td>30.0</td>\n",
       "      <td>25963.0</td>\n",
       "      <td>75335.0</td>\n",
       "      <td>45183.0</td>\n",
       "      <td>3236.0</td>\n",
       "      <td>2071.0</td>\n",
       "      <td>33166.0</td>\n",
       "      <td>914.0</td>\n",
       "      <td>38987.0</td>\n",
       "      <td>25056.0</td>\n",
       "    </tr>\n",
       "    <tr>\n",
       "      <th>0</th>\n",
       "      <td>306838.0</td>\n",
       "      <td>2219.0</td>\n",
       "      <td>7240.0</td>\n",
       "      <td>22818.0</td>\n",
       "      <td>23285.0</td>\n",
       "      <td>23787.0</td>\n",
       "      <td>23367.0</td>\n",
       "      <td>23455.0</td>\n",
       "      <td>23544.0</td>\n",
       "      <td>23570.0</td>\n",
       "      <td>...</td>\n",
       "      <td>28.0</td>\n",
       "      <td>65623.0</td>\n",
       "      <td>95094.0</td>\n",
       "      <td>88695.0</td>\n",
       "      <td>4411.0</td>\n",
       "      <td>6630.0</td>\n",
       "      <td>45134.0</td>\n",
       "      <td>1251.0</td>\n",
       "      <td>61075.0</td>\n",
       "      <td>50590.0</td>\n",
       "    </tr>\n",
       "  </tbody>\n",
       "</table>\n",
       "<p>2 rows × 28 columns</p>\n",
       "</div>"
      ],
      "text/plain": [
       "   Total Enrollment  Grade 3K  Grade PK (Half Day & Full Day)  Grade K  \\\n",
       "0          185868.0    1555.0                          4883.0  12843.0   \n",
       "0          306838.0    2219.0                          7240.0  22818.0   \n",
       "\n",
       "   Grade 1  Grade 2  Grade 3  Grade 4  Grade 5  Grade 6  ...  \\\n",
       "0  13048.0  13151.0  12955.0  13019.0  12742.0  13939.0  ...   \n",
       "0  23285.0  23787.0  23367.0  23455.0  23544.0  23570.0  ...   \n",
       "\n",
       "   # Neither Female nor Male  # Asian  # Black  # Hispanic  # Multi-Racial  \\\n",
       "0                       30.0  25963.0  75335.0     45183.0          3236.0   \n",
       "0                       28.0  65623.0  95094.0     88695.0          4411.0   \n",
       "\n",
       "   # Native American  # White  # Missing Race/Ethnicity Data  \\\n",
       "0             2071.0  33166.0                          914.0   \n",
       "0             6630.0  45134.0                         1251.0   \n",
       "\n",
       "   # Students with Disabilities  # English Language Learners  \n",
       "0                       38987.0                      25056.0  \n",
       "0                       61075.0                      50590.0  \n",
       "\n",
       "[2 rows x 28 columns]"
      ]
     },
     "execution_count": 12,
     "metadata": {},
     "output_type": "execute_result"
    }
   ],
   "source": [
    "columns = [\n",
    "    'Total Enrollment',\n",
    "    'Grade 3K',\n",
    "    'Grade PK (Half Day & Full Day)',\n",
    "    'Grade K',\n",
    "    'Grade 1',\n",
    "    'Grade 2',\n",
    "    'Grade 3',\n",
    "    'Grade 4',\n",
    "    'Grade 5',\n",
    "    'Grade 6',\n",
    "    'Grade 7',\n",
    "    'Grade 8',\n",
    "    'Grade 9',\n",
    "    'Grade 10',\n",
    "    'Grade 11',\n",
    "    'Grade 12',\n",
    "    '# Female',\n",
    "    '# Male',\n",
    "    '# Neither Female nor Male',\n",
    "    '# Asian',\n",
    "    '# Black',\n",
    "    '# Hispanic',\n",
    "    '# Multi-Racial',\n",
    "    '# Native American',\n",
    "    '# White',\n",
    "    '# Missing Race/Ethnicity Data',\n",
    "    '# Students with Disabilities',\n",
    "    '# English Language Learners'\n",
    "]\n",
    "\n",
    "t1 = pd.DataFrame(schools_within_onehrtrans_demographics[columns].sum()).transpose()\n",
    "t2 = pd.DataFrame(schools_within_sewershed_demographics[columns].sum()).transpose()\n",
    "\n",
    "pd.concat([t1,t2])"
   ]
  },
  {
   "cell_type": "code",
   "execution_count": 13,
   "id": "b64760a6",
   "metadata": {},
   "outputs": [],
   "source": [
    "pd.concat([t1,t2]).to_csv('schools_demographic.csv', index = False)"
   ]
  }
 ],
 "metadata": {
  "kernelspec": {
   "display_name": "Python 3 (ipykernel)",
   "language": "python",
   "name": "python3"
  },
  "language_info": {
   "codemirror_mode": {
    "name": "ipython",
    "version": 3
   },
   "file_extension": ".py",
   "mimetype": "text/x-python",
   "name": "python",
   "nbconvert_exporter": "python",
   "pygments_lexer": "ipython3",
   "version": "3.10.12"
  }
 },
 "nbformat": 4,
 "nbformat_minor": 5
}
